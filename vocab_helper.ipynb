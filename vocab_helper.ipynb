{
  "nbformat": 4,
  "nbformat_minor": 0,
  "metadata": {
    "colab": {
      "provenance": [],
      "authorship_tag": "ABX9TyPY7SKOQVOFIc2XfuEF53dH",
      "include_colab_link": true
    },
    "kernelspec": {
      "name": "python3",
      "display_name": "Python 3"
    },
    "language_info": {
      "name": "python"
    }
  },
  "cells": [
    {
      "cell_type": "markdown",
      "metadata": {
        "id": "view-in-github",
        "colab_type": "text"
      },
      "source": [
        "<a href=\"https://colab.research.google.com/github/you4rin/voca-list/blob/main/vocab_helper.ipynb\" target=\"_parent\"><img src=\"https://colab.research.google.com/assets/colab-badge.svg\" alt=\"Open In Colab\"/></a>"
      ]
    },
    {
      "cell_type": "code",
      "execution_count": null,
      "metadata": {
        "id": "SP3hLlTRAtD7"
      },
      "outputs": [],
      "source": [
        "from google.colab import output"
      ]
    },
    {
      "cell_type": "code",
      "source": [
        "toefl = []\n",
        "toefl.append({\n",
        "    'apply':'~을 적용하다, ~을 바르다',\n",
        "    'application':'적용, 지원',\n",
        "    'applicable':'적용되는, 해당되는',\n",
        "    'applicant':'지원자',\n",
        "    'applied':'응용의',\n",
        "})"
      ],
      "metadata": {
        "id": "jlrybQU3A4ma"
      },
      "execution_count": null,
      "outputs": []
    },
    {
      "cell_type": "code",
      "source": [
        "daily = []"
      ],
      "metadata": {
        "id": "w-hUneEeA4tx"
      },
      "execution_count": null,
      "outputs": []
    },
    {
      "cell_type": "code",
      "source": [
        "while True:\n",
        "  print('어떤 단어를 외우실 예정인가요? 해당되는 번호를 입력해주세요.')\n",
        "  print('1. TOEIC 단어')\n",
        "  print('2. TOEFL 단어')\n",
        "  print('3. TEPS 단어')\n",
        "  print('4. 일상 단어')\n",
        "  print('5. 종료')\n",
        "  vocab_num = int(input())\n",
        "  output.clear()\n",
        "  vocab_dict = {}\n",
        "\n",
        "  if vocab_num == 2:\n",
        "    print('TOEFL 단어를 선택하셨습니다.')\n",
        "    print('몇 일차의 단어를 외우실 예정인가요? 1 이상 40 이하의 숫자를 입력해주세요')\n",
        "      \n",
        "    vocab_day = int(input()) - 1\n",
        "    while vocab_day < 0 or vocab_day >= 40:\n",
        "      output.clear()\n",
        "      print('1 이상 40 이하의 숫자를 입력해주세요')\n",
        "      vocab_day = int(input()) - 1\n",
        "\n",
        "    vocab_dict = toefl[vocab_day]\n",
        "  else:\n",
        "    print('단어 암기를 종료합니다. 수고하셨습니다.')\n",
        "    break\n",
        "  \n",
        "  output.clear()\n",
        "  print('암기 방식은 어떻게 할까요? 해당하는 숫자를 입력해주세요')\n",
        "  print('1. 영단어 외우기')\n",
        "  print('2. 뜻 외우기')\n",
        "\n",
        "  vocab_type = int(input())\n",
        "  while vocab_type < 1 or vocab_type > 2:\n",
        "    output.clear()\n",
        "    print('해당하는 숫자를 다시 입력해주세요')\n",
        "    vocab_type = int(input())\n",
        "\n",
        "  vocab_size = len(vocab_dict)\n",
        "  correct_cnt = 0\n",
        "  wrong_cnt = 0\n",
        "  recent_verdict = -1\n",
        "\n",
        "  if vocab_type == 1:\n",
        "    for k, v in vocab_dict.items():\n",
        "      output.clear()\n",
        "      print('암기 방식: 영단어 외우기')\n",
        "      print('총 단어 수:', vocab_size, end='')\n",
        "      print('맞은 단어 수: ', correct_cnt, end='')\n",
        "      print('틀린 단어 수: ', wrong_cnt)\n",
        "      if recent_verdict == 0:\n",
        "        print('최근 결과: 오답')\n",
        "      elif recent_verdict == 1:\n",
        "        print('최근 결과: 정답')\n",
        "      print('------------------------')\n",
        "      print(v)\n",
        "      ans = input()\n",
        "      if k == ans:\n",
        "        correct_cnt += 1\n",
        "        recent_verdict = 1\n",
        "      else:\n",
        "        wrong_cnt += 1\n",
        "        recent_verdict = 0\n",
        "  else:\n",
        "    for k, v in vocab_dict.items():\n",
        "      output.clear()\n",
        "      print('암기 방식: 영단어 외우기')\n",
        "      print('총 단어 수: '+str(vocab_size)+', 맞은 단어 수: '+str(correct_cnt)+', 틀린 단어 수: '+str(wrong_cnt))\n",
        "      if recent_verdict == 0:\n",
        "        print('최근 결과: 오답')\n",
        "      elif recent_verdict == 1:\n",
        "        print('최근 결과: 정답')\n",
        "      print('------------------------')\n",
        "      print(k)\n",
        "      ans = input()\n",
        "\n",
        "      output.clear()\n",
        "      print('정답:', v)\n",
        "      print('답안:', ans)\n",
        "      print('정답이라고 판단되면 1, 아니면 0을 입력해주세요')\n",
        "      vocab_verdict = int(input())\n",
        "\n",
        "      while vocab_verdict < 0 or vocab_verdict > 1:\n",
        "        output.clear()\n",
        "        print('정답:', v)\n",
        "        print('답안:', ans)\n",
        "        print('정답이라고 판단되면 1, 아니면 0을 입력해주세요')\n",
        "        vocab_verdict = int(input())\n",
        "\n",
        "      if vocab_verdict == 1:\n",
        "        correct_cnt += 1\n",
        "        recent_verdict = 1\n",
        "      else:\n",
        "        wrong_cnt += 1\n",
        "        recent_verdict = 0\n",
        "  \n",
        "  output.clear()\n",
        "  print('최종 결과: 총 '+str(vocab_size)+'개, 정답 '+str(correct_cnt)+'개, 오답 '+str(wrong_cnt)+'개')\n",
        "  print('계속하시려면 아무거나 입력해주세요')\n",
        "  input()\n",
        "  output.clear()\n"
      ],
      "metadata": {
        "id": "CZzNwBlRA4wZ"
      },
      "execution_count": null,
      "outputs": []
    }
  ]
}